{
 "cells": [
  {
   "cell_type": "code",
   "execution_count": 1,
   "id": "7675ba14",
   "metadata": {},
   "outputs": [],
   "source": [
    "import math\n",
    "import pandas as pd"
   ]
  },
  {
   "cell_type": "code",
   "execution_count": 2,
   "id": "48f1c7d3",
   "metadata": {},
   "outputs": [],
   "source": [
    "train_data = pd.read_csv('film-genres-train.tsv', sep='\\t', header=None, names=[ 'genre','description'])\n",
    "test_data = pd.read_csv('film-genres-test.tsv', sep='\\t', header=None, names=[ 'genre','description'])"
   ]
  },
  {
   "cell_type": "code",
   "execution_count": 3,
   "id": "e4278660",
   "metadata": {},
   "outputs": [],
   "source": [
    "stop_words = [\n",
    "    'a', 'about', 'above', 'after', 'again', 'against', 'all', 'am', 'an', 'and',\n",
    "    'any', 'are', \"aren't\", 'as', 'at', 'be', 'because', 'been', 'before', 'being',\n",
    "    'below', 'between', 'both', 'but', 'by', \"can't\", 'cannot', 'could', \"couldn't\",\n",
    "    'did', \"didn't\", 'do', 'does', \"doesn't\", 'doing', \"don't\", 'down', 'during',\n",
    "    'each', 'few', 'for', 'from', 'further', 'had', \"hadn't\", 'has', \"hasn't\",\n",
    "    'have', \"haven't\", 'having', 'he', \"he'd\", \"he'll\", \"he's\", 'her', 'here',\n",
    "    \"here's\", 'hers', 'herself', 'him', 'himself', 'his', 'how', \"how's\", 'i',\n",
    "    \"i'd\", \"i'll\", \"i'm\", \"i've\", 'if', 'in', 'into', 'is', \"isn't\", 'it', \"it's\",\n",
    "    'its', 'itself', \"let's\", 'me', 'more', 'most', \"mustn't\", 'my', 'myself',\n",
    "    'no', 'nor', 'not', 'of', 'off', 'on', 'once', 'only', 'or', 'other', 'ought',\n",
    "    'our', 'ours', 'ourselves', 'out', 'over', 'own', 'same', \"shan't\", 'she',\n",
    "    \"she'd\", \"she'll\", \"she's\", 'should', \"shouldn't\", 'so', 'some', 'such', 'than',\n",
    "    'that', \"that's\", 'the', 'their', 'theirs', 'them', 'themselves', 'then',\n",
    "    'there', \"there's\", 'these', 'they', \"they'd\", \"they'll\", \"they're\", \"they've\",\n",
    "    'this', 'those', 'through', 'to', 'too', 'under', 'until', 'up', 'very', 'was',\n",
    "    \"wasn't\", 'we', \"we'd\", \"we'll\", \"we're\", \"we've\", 'were', \"weren't\", 'what',\n",
    "    \"what's\", 'when', \"when's\", 'where', \"where's\", 'which', 'while', 'who',\n",
    "    \"who's\", 'whom', 'why', \"why's\", 'with', \"won't\", 'would', \"wouldn't\", 'you',\n",
    "    \"you'd\", \"you'll\", \"you're\", \"you've\", 'your', 'yours', 'yourself',\n",
    "    'yourselves'\n",
    "]"
   ]
  },
  {
   "cell_type": "code",
   "execution_count": 4,
   "id": "0aa42e3e",
   "metadata": {},
   "outputs": [],
   "source": [
    "def clean_stop_words_text(text):\n",
    "    cleaned_text = ''\n",
    "    for char in text.lower():\n",
    "        if char.isalpha() or char.isspace():\n",
    "            cleaned_text += char\n",
    "        else:\n",
    "            cleaned_text += ' '\n",
    "    return cleaned_text\n",
    "\n",
    "def tokenize(text): \n",
    "    cleaned_text = clean_stop_words_text(text)\n",
    "    tokens = cleaned_text.split()\n",
    "    tokens = [token for token in tokens if token not in stop_words]\n",
    "    return tokens"
   ]
  },
  {
   "cell_type": "code",
   "execution_count": 5,
   "id": "548af447",
   "metadata": {},
   "outputs": [],
   "source": [
    "# word frequencies for each genre\n",
    "genre_word_counts = {}  # Count of words in each genre\n",
    "genre_counts = {}       # Count of documents in each genre\n",
    "vocabulary = set()      # All unique words\n",
    "\n",
    "for _, row in train_data.iterrows():\n",
    "    genre = row['genre']\n",
    "    description = row['description']\n",
    "    \n",
    "    if genre not in genre_counts:\n",
    "        genre_counts[genre] = 0\n",
    "        genre_word_counts[genre] = {}\n",
    "    \n",
    "    genre_counts[genre] += 1\n",
    "    \n",
    "    tokens = tokenize(description) \n",
    "    for token in tokens:\n",
    "        if token not in genre_word_counts[genre]:\n",
    "            genre_word_counts[genre][token] = 0\n",
    "        genre_word_counts[genre][token] += 1\n",
    "        vocabulary.add(token) "
   ]
  },
  {
   "cell_type": "code",
   "execution_count": 6,
   "id": "5ca3596e",
   "metadata": {},
   "outputs": [],
   "source": [
    "total_docs = len(train_data)\n",
    "prior_probs = {genre: count / total_docs for genre, count in genre_counts.items()}"
   ]
  },
  {
   "cell_type": "code",
   "execution_count": 7,
   "id": "18ceb37e",
   "metadata": {},
   "outputs": [],
   "source": [
    "# Implement Naive Bayes classifier\n",
    "def predict_genre(description):\n",
    "    tokens = tokenize(description)\n",
    "    max_prob = -math.inf\n",
    "    best_genre = None\n",
    "    \n",
    "    for genre in genre_counts:\n",
    "        log_prob = math.log(prior_probs[genre])\n",
    "        \n",
    "        for token in tokens:\n",
    "            if token in vocabulary:\n",
    "                # Use Laplace smoothing (add 1)\n",
    "                word_count = genre_word_counts[genre].get(token, 0) + 1\n",
    "                total_words = sum(genre_word_counts[genre].values()) + len(vocabulary)\n",
    "                log_prob += math.log(word_count / total_words)\n",
    "        \n",
    "        if log_prob > max_prob:\n",
    "            max_prob = log_prob\n",
    "            best_genre = genre\n",
    "            \n",
    "    return best_genre"
   ]
  },
  {
   "cell_type": "code",
   "execution_count": 8,
   "id": "50757614",
   "metadata": {},
   "outputs": [],
   "source": [
    "results = {}\n",
    "for genre in genre_counts:\n",
    "    results[genre] = {'correct': 0, 'incorrect': 0}\n",
    "\n",
    "for _, row in test_data.iterrows():\n",
    "    actual_genre = row['genre']\n",
    "    description = row['description']\n",
    "    predicted_genre = predict_genre(description)\n",
    "    \n",
    "    if predicted_genre == actual_genre:\n",
    "        results[actual_genre]['correct'] += 1\n",
    "    else:\n",
    "        results[actual_genre]['incorrect'] += 1"
   ]
  },
  {
   "cell_type": "code",
   "execution_count": 9,
   "id": "d3ff796e",
   "metadata": {},
   "outputs": [
    {
     "name": "stdout",
     "output_type": "stream",
     "text": [
      "Genre Classification Results:\n",
      "------------------------------\n",
      "Genre: Horror\n",
      "Correct predictions: 62\n",
      "Incorrect predictions: 190\n",
      "Accuracy: 0.25\n",
      "------------------------------\n",
      "Genre: Drama\n",
      "Correct predictions: 1990\n",
      "Incorrect predictions: 217\n",
      "Accuracy: 0.90\n",
      "------------------------------\n",
      "Genre: Documentary\n",
      "Correct predictions: 527\n",
      "Incorrect predictions: 125\n",
      "Accuracy: 0.81\n",
      "------------------------------\n",
      "Genre: Comedy\n",
      "Correct predictions: 511\n",
      "Incorrect predictions: 614\n",
      "Accuracy: 0.45\n",
      "------------------------------\n",
      "Genre: Western\n",
      "Correct predictions: 197\n",
      "Incorrect predictions: 42\n",
      "Accuracy: 0.82\n",
      "------------------------------\n",
      "Overall accuracy: 0.7345\n"
     ]
    }
   ],
   "source": [
    "print(\"Genre Classification Results:\")\n",
    "print(\"-\" * 30)\n",
    "for genre, counts in results.items():\n",
    "    correct = counts['correct']\n",
    "    incorrect = counts['incorrect']\n",
    "    total = correct + incorrect\n",
    "    accuracy = correct / total if total > 0 else 0\n",
    "    \n",
    "    print(f\"Genre: {genre}\")\n",
    "    print(f\"Correct predictions: {correct}\")\n",
    "    print(f\"Incorrect predictions: {incorrect}\")\n",
    "    print(f\"Accuracy: {accuracy:.2f}\")\n",
    "    print(\"-\" * 30)\n",
    "\n",
    "total_correct = sum(counts['correct'] for counts in results.values())\n",
    "total_predictions = sum(counts['correct'] + counts['incorrect'] for counts in results.values())\n",
    "overall_accuracy = total_correct / total_predictions\n",
    "\n",
    "print(f\"Overall accuracy: {overall_accuracy:.4f}\")"
   ]
  },
  {
   "cell_type": "code",
   "execution_count": 10,
   "id": "5d32fbd6",
   "metadata": {},
   "outputs": [
    {
     "name": "stdout",
     "output_type": "stream",
     "text": [
      "Predicted genre: Drama\n",
      "\n",
      "Confidence scores by genre:\n",
      "Drama: -398.85\n",
      "Comedy: -417.04\n",
      "Documentary: -423.55\n",
      "Western: -433.13\n",
      "Horror: -442.47\n"
     ]
    }
   ],
   "source": [
    "user_description = input(\"Enter a movie description for genre prediction: \")\n",
    " \n",
    "predicted_genre = predict_genre(user_description)\n",
    "print(f\"Predicted genre: {predicted_genre}\")\n",
    " \n",
    "print(\"\\nConfidence scores by genre:\")\n",
    "tokens = tokenize(user_description)\n",
    "scores = {}\n",
    "\n",
    "for genre in genre_counts: \n",
    "    log_prob = math.log(prior_probs[genre])\n",
    "    \n",
    "    for token in tokens:\n",
    "        if token in vocabulary:\n",
    "            word_count = genre_word_counts[genre].get(token, 0) + 1\n",
    "            total_words = sum(genre_word_counts[genre].values()) + len(vocabulary)\n",
    "            log_prob += math.log(word_count / total_words)\n",
    "    \n",
    "    scores[genre] = log_prob\n",
    "\n",
    "sorted_genres = sorted(scores.items(), key=lambda x: x[1], reverse=True)\n",
    "\n",
    "for genre, score in sorted_genres:\n",
    "    print(f\"{genre}: {score:.2f}\")"
   ]
  }
 ],
 "metadata": {
  "kernelspec": {
   "display_name": "ai",
   "language": "python",
   "name": "python3"
  },
  "language_info": {
   "codemirror_mode": {
    "name": "ipython",
    "version": 3
   },
   "file_extension": ".py",
   "mimetype": "text/x-python",
   "name": "python",
   "nbconvert_exporter": "python",
   "pygments_lexer": "ipython3",
   "version": "3.11.8"
  }
 },
 "nbformat": 4,
 "nbformat_minor": 5
}

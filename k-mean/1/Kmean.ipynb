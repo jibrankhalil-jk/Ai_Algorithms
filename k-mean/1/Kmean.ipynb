{
 "cells": [
  {
   "cell_type": "code",
   "execution_count": 1,
   "id": "72ef059c-5652-4aaf-8144-1a55136313ca",
   "metadata": {},
   "outputs": [],
   "source": [
    "from sklearn.cluster import KMeans\n",
    "import numpy as np\n",
    "import matplotlib.pyplot as plt"
   ]
  },
  {
   "cell_type": "code",
   "execution_count": 62,
   "id": "7428f8b6",
   "metadata": {},
   "outputs": [],
   "source": [
    "# Sample data\n",
    "X = np.array([\n",
    "    [2, 10],\n",
    "    [2, 5],\n",
    "    [8, 4],\n",
    "    [5, 8],\n",
    "    [7, 5],\n",
    "    [6, 4],\n",
    "    [1, 2],\n",
    "    [4, 9]\n",
    "])"
   ]
  },
  {
   "cell_type": "code",
   "execution_count": null,
   "id": "043b517b-c7d1-4a3d-83d6-c1301c27181a",
   "metadata": {},
   "outputs": [
    {
     "name": "stdout",
     "output_type": "stream",
     "text": [
      "[2 2 8 5 7 6 1 4]\n",
      "[10  5  4  8  5  4  2  9]\n"
     ]
    },
    {
     "data": {
      "image/png": "[encoded data removed]",
      "text/plain": [
       "<Figure size 640x480 with 1 Axes>"
      ]
     },
     "metadata": {},
     "output_type": "display_data"
    }
   ],
   "source": [
    "plot=plt.scatter(X[:,0],X[:,1])\n",
    "print(X[:,0])\n",
    "print(X[:,1])"
   ]
  },
  {
   "cell_type": "code",
   "execution_count": 73,
   "id": "f65be728-6f2c-4e84-ab11-d29bd98dc0da",
   "metadata": {},
   "outputs": [
    {
     "name": "stdout",
     "output_type": "stream",
     "text": [
      "Centroids:\n",
      "[[3.66666667 9.        ]\n",
      " [7.         4.33333333]\n",
      " [1.5        3.5       ]]\n",
      "\n",
      "Labels:\n",
      "[0 2 1 0 1 1 2 0]\n"
     ]
    }
   ],
   "source": [
    "# Specifying the number of clusters\n",
    "kmeans = KMeans(n_clusters=3)\n",
    "\n",
    "# Fitting the model to the data\n",
    "kmeans.fit(X)\n",
    "\n",
    "# Getting the centroids of the clusters\n",
    "centroids = kmeans.cluster_centers_\n",
    "print(\"Centroids:\")\n",
    "print(centroids)\n",
    "\n",
    "# Getting the labels assigned to each data point\n",
    "labels = kmeans.labels_\n",
    "print(\"\\nLabels:\")\n",
    "print(labels)"
   ]
  },
  {
   "cell_type": "code",
   "execution_count": 79,
   "id": "7415739e-a19c-4781-a05e-a26518a10afd",
   "metadata": {},
   "outputs": [
    {
     "name": "stdout",
     "output_type": "stream",
     "text": [
      "Predicted Cluster for the New Data Point: [2]\n"
     ]
    }
   ],
   "source": [
    "# New data point\n",
    "new_data_point = np.array([[2, 3]])\n",
    "\n",
    "# Predict the cluster for the new data point\n",
    "predicted_cluster = kmeans.predict(new_data_point)\n",
    "\n",
    "# Print the predicted cluster\n",
    "print(\"Predicted Cluster for the New Data Point:\", predicted_cluster)"
   ]
  }
 ],
 "metadata": {
  "kernelspec": {
   "display_name": "ai",
   "language": "python",
   "name": "python3"
  },
  "language_info": {
   "codemirror_mode": {
    "name": "ipython",
    "version": 3
   },
   "file_extension": ".py",
   "mimetype": "text/x-python",
   "name": "python",
   "nbconvert_exporter": "python",
   "pygments_lexer": "ipython3",
   "version": "3.11.8"
  }
 },
 "nbformat": 4,
 "nbformat_minor": 5
}
